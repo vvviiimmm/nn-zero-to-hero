{
  "cells": [
    {
      "attachments": {},
      "cell_type": "markdown",
      "metadata": {
        "id": "nKgUpLdlFz9Z"
      },
      "source": [
        "MLP\n",
        "\n",
        "Based on \"A Neural Probabilistic Language Model\" \n",
        "https://www.jmlr.org/papers/volume3/bengio03a/bengio03a.pdf"
      ]
    },
    {
      "cell_type": "code",
      "execution_count": 203,
      "metadata": {
        "id": "0PAOXQFVUzE4"
      },
      "outputs": [],
      "source": [
        "import torch\n",
        "import torch.nn.functional as F\n",
        "import matplotlib.pyplot as plt\n",
        "from torch.utils.data import DataLoader, TensorDataset\n",
        "%matplotlib inline\n",
        "words = open('names.txt', 'r').read().splitlines()\n",
        "g = torch.Generator().manual_seed(2147483647)"
      ]
    },
    {
      "attachments": {},
      "cell_type": "markdown",
      "metadata": {},
      "source": [
        "Split the dataset"
      ]
    },
    {
      "cell_type": "code",
      "execution_count": 204,
      "metadata": {
        "colab": {
          "base_uri": "https://localhost:8080/"
        },
        "id": "ffnOwqOl7wgz",
        "outputId": "f0a769fd-960b-4e69-fed5-1db2a575f7f8"
      },
      "outputs": [],
      "source": [
        "import random\n",
        "random.shuffle(words)\n",
        "\n",
        "# Split the original list into train, dev, and test parts\n",
        "def split_words(words):\n",
        "    n = len(words)\n",
        "    size_1 = int(n * 0.8)\n",
        "    size_2 = int(n * 0.1)\n",
        "    return words[:size_1], words[size_1:size_1+size_2], words[size_1+size_2:]\n",
        "\n",
        "# train_words, dev_words, test_words = split_words(words)\n",
        "train_words, dev_words, test_words = split_words(words) "
      ]
    },
    {
      "cell_type": "code",
      "execution_count": 205,
      "metadata": {
        "id": "p-5ZKBxgLD8B"
      },
      "outputs": [],
      "source": [
        "# Constants and hyper params\n",
        "\n",
        "# Number of characters to use for predicting the next character\n",
        "block_size = 3\n",
        "embedding_size = 10 # size of the embedding vector (\"C\" in the paper)\n",
        "hidden_layer_size = 100\n",
        "vocab_size = 27\n",
        "\n",
        "batch_size = 1000  # training"
      ]
    },
    {
      "cell_type": "code",
      "execution_count": 206,
      "metadata": {
        "colab": {
          "base_uri": "https://localhost:8080/"
        },
        "id": "AX-dXNxwKPjl",
        "outputId": "bd86b631-9545-4304-e2e1-c6d3f16c5ebe"
      },
      "outputs": [],
      "source": [
        "# build vocab\n",
        "all_chars = sorted(list(set(''.join(words) + \".\")))\n",
        "\n",
        "# build stoi and itos for 'chars'\n",
        "def build_stoi_itos(chars):\n",
        "    stoi = {}\n",
        "    itos = {}\n",
        "    for i, c in enumerate(chars):\n",
        "        stoi[c] = i\n",
        "        itos[i] = c\n",
        "    return stoi, itos\n",
        "\n",
        "stoi, itos = build_stoi_itos(all_chars)\n"
      ]
    },
    {
      "attachments": {},
      "cell_type": "markdown",
      "metadata": {},
      "source": [
        "Define functions to build the labels"
      ]
    },
    {
      "cell_type": "code",
      "execution_count": 207,
      "metadata": {},
      "outputs": [],
      "source": [
        "def add_padding(word, n):\n",
        "  return '.'*n + word + '.'*n\n",
        "\n",
        "def sliding_window(lst, n):\n",
        "    \"\"\"\n",
        "    Returns a list of size N groupings from the given list using sliding window\n",
        "    Example: sliding_window(\"helloworld\", 3) -> [\"hel\", \"ell\", \"llo\", \"low\", \"owo\", \"wor\", \"orl\", \"rld\"]\n",
        "    \"\"\"\n",
        "    return [lst[i:i+n] for i in range(len(lst)-n+1)]\n",
        "    \n",
        "def padded_sliding_window(input, n):\n",
        "  padded = add_padding(input, n - 1)\n",
        "  return sliding_window(padded, n)\n",
        "\n",
        "# Example:\n",
        "# get_labeled_data([\"hello\", \"world\"], 2) \n",
        "# xs -> tensor([[. .], [. h], [h e], [e l], [l l], [l o], [o .], [. w], [w o], [o r], [r l], [l d], [d .], [. .])\n",
        "# ys -> tensor([h, e, l, l, o, ., w, o, r, l, d, ., ., .])\n",
        "def get_labeled_data(words_list, block_size):\n",
        "    xs, ys = [], []\n",
        "    num_examples = 0\n",
        "    for w in words_list:\n",
        "        examples = padded_sliding_window(w, block_size + 1)\n",
        "        for example in examples:\n",
        "          xsi = []\n",
        "          inputs = example[:block_size]\n",
        "          for i in inputs:\n",
        "            xsi.append(stoi[i])\n",
        "\n",
        "          output = example[-1]\n",
        "          ys.append(stoi[output])\n",
        "          num_examples += 1\n",
        "          xs.append(xsi)\n",
        "\n",
        "    \n",
        "    xs = torch.tensor(xs)\n",
        "    ys = torch.tensor(ys)\n",
        "    return xs, ys,num_examples \n"
      ]
    },
    {
      "cell_type": "code",
      "execution_count": 208,
      "metadata": {
        "id": "ZF6uoEf-GeKi"
      },
      "outputs": [],
      "source": [
        "train_xs, train_ys, train_num_examples = get_labeled_data(train_words, block_size)\n",
        "dev_xs, dev_ys, dev_num_examples = get_labeled_data(dev_words, block_size)\n",
        "test_xs, test_ys, test_num_examples = get_labeled_data(test_words, block_size)"
      ]
    },
    {
      "cell_type": "code",
      "execution_count": 209,
      "metadata": {},
      "outputs": [
        {
          "name": "stdout",
          "output_type": "stream",
          "text": [
            "Train words num:  25626\n",
            "Training examples size:  233769\n",
            "Dev words num:  3203\n",
            "Dev examples size:  29229\n",
            "Test words num:  3204\n",
            "Test examples size:  29214\n"
          ]
        }
      ],
      "source": [
        "print(\"Train words num: \", len(train_words))\n",
        "print(\"Training examples size: \", train_num_examples)\n",
        "\n",
        "\n",
        "print(\"Dev words num: \", len(dev_words))\n",
        "print(\"Dev examples size: \", dev_num_examples)\n",
        "\n",
        "print(\"Test words num: \", len(test_words))\n",
        "print(\"Test examples size: \", test_num_examples)\n"
      ]
    },
    {
      "cell_type": "code",
      "execution_count": 210,
      "metadata": {},
      "outputs": [
        {
          "name": "stdout",
          "output_type": "stream",
          "text": [
            "C shape:  torch.Size([27, 10])\n",
            "W1 shape:  torch.Size([30, 100])\n",
            "b1 shape:  torch.Size([1, 100])\n",
            "W2 shape:  torch.Size([100, 27])\n",
            "b2 shape:  torch.Size([1, 27])\n"
          ]
        }
      ],
      "source": [
        "# Embedding layer C\n",
        "# Embeds a token (single character) into a lower dimentional space. In the paper they have 17k words embedded into 30 dim space\n",
        "C = torch.randn((vocab_size, embedding_size), requires_grad=True, generator=g)\n",
        "\n",
        "# Network init\n",
        "W1 = torch.randn((embedding_size * block_size, hidden_layer_size), requires_grad=True, generator=g)\n",
        "b1 = torch.randn((1, hidden_layer_size), requires_grad=True, generator=g)\n",
        "\n",
        "W2 = torch.randn((hidden_layer_size, vocab_size), requires_grad=True, generator=g)\n",
        "b2 = torch.randn((1, vocab_size), requires_grad=True, generator=g)\n",
        "\n",
        "params = [C, W1, b1, W2, b2]\n",
        "\n",
        "# print shapes of the network\n",
        "print(\"C shape: \", C.shape)\n",
        "print(\"W1 shape: \", W1.shape)\n",
        "print(\"b1 shape: \", b1.shape)\n",
        "print(\"W2 shape: \", W2.shape)\n",
        "print(\"b2 shape: \", b2.shape)"
      ]
    },
    {
      "cell_type": "code",
      "execution_count": 214,
      "metadata": {},
      "outputs": [],
      "source": [
        "# optimization and backprop\n",
        "learning_rate = 0.01\n",
        "# optimizer = torch.optim.SGD([C, W1, b1, W2, b2], lr=learning_rate)\n",
        "\n",
        "lossi = []\n",
        "stepi = []\n",
        "for i in range(50000):   \n",
        "    # mini batch\n",
        "    batch_idx = torch.randint(0, train_xs.shape[0], (batch_size,))\n",
        "\n",
        "    emb = C[train_xs[batch_idx]].view((-1, block_size * embedding_size))\n",
        "\n",
        "    l1 = emb @ W1 + b1\n",
        "    l1_tanh = torch.tanh(l1)\n",
        "\n",
        "    l2 = l1_tanh @ W2 + b2\n",
        "    # l2_softmax = F.softmax(l2, dim=1)\n",
        "\n",
        "    # caculate cross entropy loss\n",
        "    loss = F.cross_entropy(l2, train_ys[batch_idx]) # + 1*(W1**2).mean() + 1*(W2**2).mean() # + 1*(C**2).mean()\n",
        "\n",
        "    for param in params:\n",
        "        param.grad = None\n",
        "    loss.backward()\n",
        "\n",
        "    for param in params:\n",
        "        param.data += -learning_rate * param.grad\n",
        "    \n",
        "    lossi.append(loss.item())\n",
        "    stepi.append(i)"
      ]
    },
    {
      "cell_type": "code",
      "execution_count": 215,
      "metadata": {},
      "outputs": [
        {
          "data": {
            "text/plain": [
              "[<matplotlib.lines.Line2D at 0x17fa81ed0>]"
            ]
          },
          "execution_count": 215,
          "metadata": {},
          "output_type": "execute_result"
        },
        {
          "data": {
            "image/png": "[encoded data removed]",
            "text/plain": [
              "<Figure size 640x480 with 1 Axes>"
            ]
          },
          "metadata": {},
          "output_type": "display_data"
        }
      ],
      "source": [
        "# plot lossi\n",
        "plt.plot(stepi, lossi)"
      ]
    },
    {
      "cell_type": "code",
      "execution_count": 216,
      "metadata": {},
      "outputs": [
        {
          "data": {
            "text/plain": [
              "tensor(1.7267, grad_fn=<NllLossBackward0>)"
            ]
          },
          "execution_count": 216,
          "metadata": {},
          "output_type": "execute_result"
        }
      ],
      "source": [
        "emb = C[train_xs].view((-1, block_size * embedding_size))\n",
        "\n",
        "l1 = emb @ W1 + b1\n",
        "l1_tanh = torch.tanh(l1)\n",
        "\n",
        "l2 = l1_tanh @ W2 + b2\n",
        "# l2_softmax = F.softmax(l2, dim=1)\n",
        "\n",
        "# caculate cross entropy loss\n",
        "loss = F.cross_entropy(l2, train_ys) # + 1*(W1**2).mean() + 1*(W2**2).mean() + 1*(C**2).mean()\n",
        "loss "
      ]
    },
    {
      "cell_type": "code",
      "execution_count": 106,
      "metadata": {},
      "outputs": [
        {
          "name": "stdout",
          "output_type": "stream",
          "text": [
            "x tensor([2, 7])\n",
            "y tensor([12, 17])\n",
            "1\n",
            "x tensor([9, 5])\n",
            "y tensor([19, 15])\n",
            "2\n",
            "x tensor([8, 1])\n",
            "y tensor([18, 11])\n",
            "3\n",
            "x tensor([6, 4])\n",
            "y tensor([16, 14])\n",
            "4\n",
            "x tensor([3])\n",
            "y tensor([13])\n",
            "5\n"
          ]
        }
      ],
      "source": [
        "training_data_tensor = torch.tensor([1,2,3,4,5,6,7,8,9])\n",
        "labels = torch.tensor([11,12,13,14,15,16,17,18,19])\n",
        "dataset = TensorDataset(training_data_tensor, labels)\n",
        "dataloader = DataLoader(dataset, 2, shuffle=True)"
      ]
    },
    {
      "attachments": {},
      "cell_type": "markdown",
      "metadata": {
        "id": "RRejnhqtloP_"
      },
      "source": [
        "Exercises:\n",
        "- E01: Tune the hyperparameters of the training to beat my best validation loss of 2.2\n",
        "- E02: I was not careful with the intialization of the network in this video. (1) What is the loss you'd get if the predicted probabilities at initialization were perfectly uniform? What loss do we achieve? (2) Can you tune the initialization to get a starting loss that is much more similar to (1)?\n",
        "- E03: Read the Bengio et al 2003 paper (link above), implement and try any idea from the paper. Did it work?"
      ]
    }
  ],
  "metadata": {
    "colab": {
      "provenance": []
    },
    "kernelspec": {
      "display_name": "Python 3",
      "language": "python",
      "name": "python3"
    },
    "language_info": {
      "codemirror_mode": {
        "name": "ipython",
        "version": 3
      },
      "file_extension": ".py",
      "mimetype": "text/x-python",
      "name": "python",
      "nbconvert_exporter": "python",
      "pygments_lexer": "ipython3",
      "version": "3.11.2"
    },
    "vscode": {
      "interpreter": {
        "hash": "b0fa6594d8f4cbf19f97940f81e996739fb7646882a419484c72d19e05852a7e"
      }
    }
  },
  "nbformat": 4,
  "nbformat_minor": 0
}
